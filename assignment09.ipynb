{
 "cells": [
  {
   "cell_type": "markdown",
   "metadata": {},
   "source": [
    "# Assignment09\n",
    "# This script is about classifying 0 images(in minst) with random features.\n",
    "# Name : Lee Gyu Hyeong\n",
    "# Student ID : 20122208\n",
    "# Link to github : https://github.com/GyuHyeong/assignment09.git"
   ]
  },
  {
   "cell_type": "markdown",
   "metadata": {},
   "source": [
    "# Import packages for plotting graphs and manipulating data. "
   ]
  },
  {
   "cell_type": "code",
   "execution_count": 1,
   "metadata": {},
   "outputs": [],
   "source": [
    "import matplotlib.pyplot as plt\n",
    "import numpy as np"
   ]
  },
  {
   "cell_type": "markdown",
   "metadata": {},
   "source": [
    "# Bring images and set properly for manipulating."
   ]
  },
  {
   "cell_type": "code",
   "execution_count": 2,
   "metadata": {},
   "outputs": [],
   "source": [
    "file_data_train = \"mnist_train.csv\"\n",
    "file_data_test  = \"mnist_test.csv\"\n",
    "\n",
    "h_data_train    = open(file_data_train, \"r\")\n",
    "h_data_test     = open(file_data_test, \"r\")\n",
    "\n",
    "data_train      = h_data_train.readlines()\n",
    "data_test       = h_data_test.readlines()\n",
    "\n",
    "h_data_train.close()\n",
    "h_data_test.close()\n",
    "\n",
    "size_row    = 28    # height of the image\n",
    "size_col    = 28    # width of the image\n",
    "\n",
    "num_train   = len(data_train)   # number of training images\n",
    "num_test    = len(data_test)    # number of testing images\n",
    "\n",
    "#\n",
    "# normalize the values of the input data to be [0, 1]\n",
    "#\n",
    "def normalize(data):\n",
    "\n",
    "    data_normalized = (data - min(data)) / (max(data) - min(data))\n",
    "\n",
    "    return(data_normalized)\n",
    "\n",
    "#\n",
    "# example of distance function between two vectors x and y\n",
    "#\n",
    "def distance(x, y):\n",
    "\n",
    "    d = (x - y) ** 2\n",
    "    s = np.sum(d)\n",
    "    # r = np.sqrt(s)\n",
    "\n",
    "    return(s)\n",
    "\n",
    "#\n",
    "# make a matrix each column of which represents an images in a vector form \n",
    "#\n",
    "list_image_train    = np.empty((size_row * size_col, num_train), dtype=float)\n",
    "list_label_train    = np.empty(num_train, dtype=int)\n",
    "\n",
    "list_image_test     = np.empty((size_row * size_col, num_test), dtype=float)\n",
    "list_label_test     = np.empty(num_test, dtype=int)\n",
    "\n",
    "count = 0\n",
    "\n",
    "for line in data_train:\n",
    "\n",
    "    line_data   = line.split(',')\n",
    "    label       = line_data[0]\n",
    "    im_vector   = np.asfarray(line_data[1:]) #float형으로 변형\n",
    "    im_vector   = normalize(im_vector)\n",
    "\n",
    "    list_label_train[count]     = label\n",
    "    list_image_train[:, count]  = im_vector    \n",
    "   \n",
    "    count += 1\n",
    "\n",
    "count = 0\n",
    "\n",
    "for line in data_test:\n",
    "\n",
    "    line_data   = line.split(',')\n",
    "    label       = line_data[0]\n",
    "    im_vector   = np.asfarray(line_data[1:])\n",
    "    im_vector   = normalize(im_vector)\n",
    "\n",
    "    list_label_test[count]      = label\n",
    "    list_image_test[:, count]   = im_vector    \n",
    "\n",
    "    count += 1"
   ]
  },
  {
   "cell_type": "markdown",
   "metadata": {},
   "source": [
    "# Define a function that has parameter p(dimension of model parameter) and checks prediction errors by classifying images whether 0 or not."
   ]
  },
  {
   "cell_type": "code",
   "execution_count": 3,
   "metadata": {},
   "outputs": [],
   "source": [
    "def classifier_0_with_randomfeatures(p):\n",
    "    #-------this section is for finding out model parameters(theta0_r)-----\n",
    "    list_label_train_0 = np.empty(num_train, dtype=int)\n",
    "    for i in range(num_train):\n",
    "        if (list_label_train[i]==0):\n",
    "            list_label_train_0[i]=1\n",
    "        else:\n",
    "            list_label_train_0[i]=-1\n",
    "    \n",
    "    R=np.empty((p,size_row * size_col),dtype=float)\n",
    "    count=0\n",
    "    for i in range(p): #R is \n",
    "        r=np.random.normal(0,1,size_row * size_col)\n",
    "        R[count,:]  = r    \n",
    "        count += 1\n",
    "        \n",
    "    A0_r=(R.dot(list_image_train)).T\n",
    "    theta0_r=((np.linalg.pinv((A0_r.T).dot(A0_r))).dot(A0_r.T)).dot(list_label_train_0)\n",
    "    #------------------------------------------------------------------\n",
    "    \n",
    "    #---this section is for finding out Tp,Tn,Fp and Fn which are related with error rate ---\n",
    "    #---this section is executed with training set.\n",
    "    A0_r_train=(R.dot(list_image_train)).T\n",
    "    y_train=A0_r_train.dot(theta0_r)\n",
    "    for i in range(num_train):\n",
    "        if(y_train[i]<0):\n",
    "            y_train[i]=-1\n",
    "        elif(y_train[i]>=0):\n",
    "            y_train[i]=1\n",
    "    Tp_train=0 \n",
    "    Tn_train=0 \n",
    "    Fp_train=0 \n",
    "    Fn_train=0\n",
    "    for i in range(num_train):\n",
    "        if(list_label_train[i]==0 and y_train[i]==1):\n",
    "            Tp_train+=1\n",
    "        elif(list_label_train[i]==0 and y_train[i]==-1):\n",
    "            Fn_train+=1\n",
    "        elif(list_label_train[i]!=0 and y_train[i]==1):\n",
    "            Fp_train+=1\n",
    "        elif(list_label_train[i]!=0 and y_train[i]==-1):\n",
    "            Tn_train+=1\n",
    "    print('\\n\\n\\n---------------------------------------',)\n",
    "    print('when p=',p)\n",
    "    print('\\nabout training set')\n",
    "    print('Tp:',Tp_train,'Tn:',Tn_train,'Fp:',Fp_train,'Fn:',Fn_train)\n",
    "    #------------------------------------------------------------------\n",
    "    \n",
    "    #---this section is for finding out Tp,Tn,Fp and Fn which are related with error rate ---\n",
    "    #---this sextion is plotting the average images of each of Tp,Tn,Fp,Fn.\n",
    "    #---this section is executed with test set.\n",
    "    A0_r_test=(R.dot(list_image_test)).T\n",
    "    y=A0_r_test.dot(theta0_r)\n",
    "    for i in range(num_test):\n",
    "        if(y[i]<0):\n",
    "            y[i]=-1\n",
    "        elif(y[i]>=0):\n",
    "            y[i]=1\n",
    "    Tp=0 \n",
    "    Tn=0 \n",
    "    Fp=0 \n",
    "    Fn=0\n",
    "    im_average_Tp  = np.zeros(size_row * size_col, dtype=float)\n",
    "    im_average_Tn  = np.zeros(size_row * size_col, dtype=float)\n",
    "    im_average_Fp  = np.zeros(size_row * size_col, dtype=float)\n",
    "    im_average_Fn  = np.zeros(size_row * size_col, dtype=float)    \n",
    "    for i in range(num_test):\n",
    "        if(list_label_test[i]==0 and y[i]==1):\n",
    "            Tp+=1\n",
    "            im_average_Tp+=list_image_test[:,i]\n",
    "        elif(list_label_test[i]==0 and y[i]==-1):\n",
    "            Fn+=1\n",
    "            im_average_Fn+=list_image_test[:,i]\n",
    "        elif(list_label_test[i]!=0 and y[i]==1):\n",
    "            Fp+=1\n",
    "            im_average_Fp+=list_image_test[:,i]\n",
    "        elif(list_label_test[i]!=0 and y[i]==-1):\n",
    "            Tn+=1\n",
    "            im_average_Tn+=list_image_test[:,i]\n",
    "    print('\\n\\nabout test set')\n",
    "    print('Tp:',Tp,'Tn:',Tn,'Fp:',Fp,'Fn:',Fn)\n",
    "    precision=Tp/(Tp+Fp)\n",
    "    recall=Tp/(Tp+Fn)\n",
    "    F1_score=(2*precision*recall)/(precision+recall)\n",
    "    print('F1 score:',F1_score)\n",
    "    \n",
    "    im_average_Tp /= Tp\n",
    "    im_average_Tn /= Tn\n",
    "    im_average_Fp /= Fp\n",
    "    im_average_Fn /= Fn\n",
    "    \n",
    "    plt.subplot(2,2,1)\n",
    "    plt.title('Tp average image')\n",
    "    plt.imshow(im_average_Tp.reshape((size_row, size_col)), cmap='Greys', interpolation='None') \n",
    "    frame   = plt.gca(); frame.axes.get_xaxis().set_visible(False); frame.axes.get_yaxis().set_visible(False)\n",
    "    plt.subplot(2,2,2)\n",
    "    plt.title('Tn average image')\n",
    "    plt.imshow(im_average_Tn.reshape((size_row, size_col)), cmap='Greys', interpolation='None') \n",
    "    frame   = plt.gca(); frame.axes.get_xaxis().set_visible(False); frame.axes.get_yaxis().set_visible(False)\n",
    "    plt.subplot(2,2,3)\n",
    "    plt.title('Fp average image')\n",
    "    plt.imshow(im_average_Fp.reshape((size_row, size_col)), cmap='Greys', interpolation='None') \n",
    "    frame   = plt.gca(); frame.axes.get_xaxis().set_visible(False); frame.axes.get_yaxis().set_visible(False)\n",
    "    plt.subplot(2,2,4)\n",
    "    plt.title('Fn average image')\n",
    "    plt.imshow(im_average_Fn.reshape((size_row, size_col)), cmap='Greys', interpolation='None') \n",
    "    frame   = plt.gca(); frame.axes.get_xaxis().set_visible(False); frame.axes.get_yaxis().set_visible(False)\n",
    "    plt.show()\n",
    "    #-----------------------------------------------------------------\n",
    "    return \n"
   ]
  },
  {
   "cell_type": "markdown",
   "metadata": {},
   "source": [
    "# Execute the function with different p."
   ]
  },
  {
   "cell_type": "code",
   "execution_count": 4,
   "metadata": {},
   "outputs": [
    {
     "name": "stdout",
     "output_type": "stream",
     "text": [
      "\n",
      "\n",
      "\n",
      "---------------------------------------\n",
      "when p= 32\n",
      "\n",
      "about training set\n",
      "Tp: 4467 Tn: 53513 Fp: 564 Fn: 1456\n",
      "\n",
      "\n",
      "about test set\n",
      "Tp: 746 Tn: 8931 Fp: 89 Fn: 234\n",
      "F1 score: 0.8220385674931129\n"
     ]
    },
    {
     "data": {
      "image/png": "[encoded data removed]",
      "text/plain": [
       "<Figure size 432x288 with 4 Axes>"
      ]
     },
     "metadata": {},
     "output_type": "display_data"
    },
    {
     "name": "stdout",
     "output_type": "stream",
     "text": [
      "\n",
      "\n",
      "\n",
      "---------------------------------------\n",
      "when p= 64\n",
      "\n",
      "about training set\n",
      "Tp: 4700 Tn: 53578 Fp: 499 Fn: 1223\n",
      "\n",
      "\n",
      "about test set\n",
      "Tp: 782 Tn: 8940 Fp: 80 Fn: 198\n",
      "F1 score: 0.8490770901194354\n"
     ]
    },
    {
     "data": {
      "image/png": "[encoded data removed]",
      "text/plain": [
       "<Figure size 432x288 with 4 Axes>"
      ]
     },
     "metadata": {},
     "output_type": "display_data"
    },
    {
     "name": "stdout",
     "output_type": "stream",
     "text": [
      "\n",
      "\n",
      "\n",
      "---------------------------------------\n",
      "when p= 128\n",
      "\n",
      "about training set\n",
      "Tp: 5094 Tn: 53662 Fp: 415 Fn: 829\n",
      "\n",
      "\n",
      "about test set\n",
      "Tp: 884 Tn: 8955 Fp: 65 Fn: 96\n",
      "F1 score: 0.9165370658372214\n"
     ]
    },
    {
     "data": {
      "image/png": "[encoded data removed]",
      "text/plain": [
       "<Figure size 432x288 with 4 Axes>"
      ]
     },
     "metadata": {},
     "output_type": "display_data"
    },
    {
     "name": "stdout",
     "output_type": "stream",
     "text": [
      "\n",
      "\n",
      "\n",
      "---------------------------------------\n",
      "when p= 256\n",
      "\n",
      "about training set\n",
      "Tp: 5283 Tn: 53736 Fp: 341 Fn: 640\n",
      "\n",
      "\n",
      "about test set\n",
      "Tp: 908 Tn: 8961 Fp: 59 Fn: 72\n",
      "F1 score: 0.9327170005136107\n"
     ]
    },
    {
     "data": {
      "image/png": "[encoded data removed]",
      "text/plain": [
       "<Figure size 432x288 with 4 Axes>"
      ]
     },
     "metadata": {},
     "output_type": "display_data"
    },
    {
     "name": "stdout",
     "output_type": "stream",
     "text": [
      "\n",
      "\n",
      "\n",
      "---------------------------------------\n",
      "when p= 512\n",
      "\n",
      "about training set\n",
      "Tp: 5336 Tn: 53754 Fp: 323 Fn: 587\n",
      "\n",
      "\n",
      "about test set\n",
      "Tp: 917 Tn: 8957 Fp: 63 Fn: 63\n",
      "F1 score: 0.9357142857142857\n"
     ]
    },
    {
     "data": {
      "image/png": "[encoded data removed]",
      "text/plain": [
       "<Figure size 432x288 with 4 Axes>"
      ]
     },
     "metadata": {},
     "output_type": "display_data"
    },
    {
     "name": "stdout",
     "output_type": "stream",
     "text": [
      "\n",
      "\n",
      "\n",
      "---------------------------------------\n",
      "when p= 1024\n",
      "\n",
      "about training set\n",
      "Tp: 5347 Tn: 53759 Fp: 318 Fn: 576\n",
      "\n",
      "\n",
      "about test set\n",
      "Tp: 917 Tn: 8959 Fp: 61 Fn: 63\n",
      "F1 score: 0.9366700715015321\n"
     ]
    },
    {
     "data": {
      "image/png": "[encoded data removed]",
      "text/plain": [
       "<Figure size 432x288 with 4 Axes>"
      ]
     },
     "metadata": {},
     "output_type": "display_data"
    }
   ],
   "source": [
    "classifier_0_with_randomfeatures(2**5)\n",
    "classifier_0_with_randomfeatures(2**6)\n",
    "classifier_0_with_randomfeatures(2**7)\n",
    "classifier_0_with_randomfeatures(2**8)\n",
    "classifier_0_with_randomfeatures(2**9)\n",
    "classifier_0_with_randomfeatures(2**10)\n"
   ]
  }
 ],
 "metadata": {
  "kernelspec": {
   "display_name": "Python 3",
   "language": "python",
   "name": "python3"
  },
  "language_info": {
   "codemirror_mode": {
    "name": "ipython",
    "version": 3
   },
   "file_extension": ".py",
   "mimetype": "text/x-python",
   "name": "python",
   "nbconvert_exporter": "python",
   "pygments_lexer": "ipython3",
   "version": "3.6.4"
  },
  "latex_envs": {
   "LaTeX_envs_menu_present": true,
   "autoclose": false,
   "autocomplete": true,
   "bibliofile": "biblio.bib",
   "cite_by": "apalike",
   "current_citInitial": 1,
   "eqLabelWithNumbers": true,
   "eqNumInitial": 1,
   "hotkeys": {
    "equation": "Ctrl-E",
    "itemize": "Ctrl-I"
   },
   "labels_anchors": false,
   "latex_user_defs": false,
   "report_style_numbering": false,
   "user_envs_cfg": false
  }
 },
 "nbformat": 4,
 "nbformat_minor": 2
}
